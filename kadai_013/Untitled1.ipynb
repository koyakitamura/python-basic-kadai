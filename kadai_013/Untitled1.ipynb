{
  "nbformat": 4,
  "nbformat_minor": 0,
  "metadata": {
    "colab": {
      "provenance": []
    },
    "kernelspec": {
      "name": "python3",
      "display_name": "Python 3"
    },
    "language_info": {
      "name": "python"
    }
  },
  "cells": [
    {
      "cell_type": "code",
      "execution_count": 6,
      "metadata": {
        "colab": {
          "base_uri": "https://localhost:8080/"
        },
        "id": "Imm01XUXlJUm",
        "outputId": "2dfb199b-274b-4a2a-ea4d-0bee2edb431d"
      },
      "outputs": [
        {
          "output_type": "stream",
          "name": "stdout",
          "text": [
            "121.00000000000001\n"
          ]
        }
      ],
      "source": [
        "def add_tax(price, tax_rate):\n",
        "    result = price * (1 + tax_rate / 100)\n",
        "    return result\n",
        "\n",
        "\n",
        "total = add_tax(110, 10)\n",
        "print(total)\n"
      ]
    }
  ]
}