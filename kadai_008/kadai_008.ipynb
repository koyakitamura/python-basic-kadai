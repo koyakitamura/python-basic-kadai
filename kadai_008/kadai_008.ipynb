{
  "nbformat": 4,
  "nbformat_minor": 0,
  "metadata": {
    "colab": {
      "provenance": []
    },
    "kernelspec": {
      "name": "python3",
      "display_name": "Python 3"
    },
    "language_info": {
      "name": "python"
    }
  },
  "cells": [
    {
      "cell_type": "code",
      "execution_count": 16,
      "metadata": {
        "colab": {
          "base_uri": "https://localhost:8080/"
        },
        "id": "DcjXB1tbo1Bn",
        "outputId": "2389259c-2d0c-4788-bf76-9d4d0633d5f7"
      },
      "outputs": [
        {
          "output_type": "stream",
          "name": "stdout",
          "text": [
            "112\n"
          ]
        }
      ],
      "source": [
        "import random\n",
        "\n",
        "var = random.randint(0, 1000)\n",
        "\n",
        "if var % 3 == 0 and var % 5 == 0:\n",
        "  print(\"FizzBuzz\")\n",
        "elif var % 3 == 0:\n",
        "  print(\"Fizz\")\n",
        "elif var % 5 == 0:\n",
        "  print(\"Buzz\")\n",
        "else:\n",
        "  print(var)\n"
      ]
    }
  ]
}