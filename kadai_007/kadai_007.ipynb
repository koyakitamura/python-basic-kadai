{
  "nbformat": 4,
  "nbformat_minor": 0,
  "metadata": {
    "colab": {
      "provenance": []
    },
    "kernelspec": {
      "name": "python3",
      "display_name": "Python 3"
    },
    "language_info": {
      "name": "python"
    }
  },
  "cells": [
    {
      "cell_type": "code",
      "execution_count": 1,
      "metadata": {
        "colab": {
          "base_uri": "https://localhost:8080/"
        },
        "id": "Imm01XUXlJUm",
        "outputId": "12b3cf03-7667-491e-9c92-ff1b215ef5d3"
      },
      "outputs": [
        {
          "output_type": "stream",
          "name": "stdout",
          "text": [
            "{0: '月曜日ははれです', 1: '火曜日は雨です', 2: '水曜日は晴れです', 3: '木曜日は晴れです', 4: '金曜日は曇りです', 5: '土曜日は曇のち雨です', 6: '日曜日は雷雨です'}\n"
          ]
        }
      ],
      "source": [
        "array = {\n",
        "    0: \"月曜日は晴れです\",\n",
        "    1: \"火曜日は雨です\",\n",
        "    2: \"水曜日は晴れです\",\n",
        "    3: \"木曜日は晴れです\",\n",
        "    4: \"金曜日は曇りです\",\n",
        "    5: \"土曜日は曇りのち雨です\",\n",
        "    6: \"日曜日は雷雨です\"\n",
        "}\n",
        "print(array)\n",
        "\n",
        "dictionary = {\n",
        "    \"mon\": \"晴れ\",\n",
        "    \"tue\": \"雨\",\n",
        "    \"wed\": \"晴れ\",\n",
        "    \"thu\": \"晴れ\",\n",
        "    \"fri\": \"曇り\",\n",
        "    \"sat\": \"曇りのち雨\",\n",
        "    \"sun\": \"雷雨\"\n",
        "}\n",
        "print(array)"
      ]
    }
  ]
}