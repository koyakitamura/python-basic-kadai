{
  "nbformat": 4,
  "nbformat_minor": 0,
  "metadata": {
    "colab": {
      "provenance": []
    },
    "kernelspec": {
      "name": "python3",
      "display_name": "Python 3"
    },
    "language_info": {
      "name": "python"
    }
  },
  "cells": [
    {
      "cell_type": "code",
      "execution_count": 9,
      "metadata": {
        "colab": {
          "base_uri": "https://localhost:8080/"
        },
        "id": "Imm01XUXlJUm",
        "outputId": "3b62317a-b624-4621-fe63-9ba0cea09a24"
      },
      "outputs": [
        {
          "output_type": "stream",
          "name": "stdout",
          "text": [
            "330.0\n"
          ]
        }
      ],
      "source": [
        "class Human:\n",
        "    def __init__(self, name, age):\n",
        "        self.name = name\n",
        "        self.age = age\n",
        "\n",
        "    def check_adult(self):\n",
        "        if self.age >= 20:\n",
        "            print(f\"{self.name} さんは大人です（年齢: {self.age}）\")\n",
        "        else:\n",
        "            print(f\"{self.name} さんは大人ではありません（年齢: {self.age}）\")\n",
        "\n",
        "\n",
        "humans = [\n",
        "    Human(\"太郎\", 25),\n",
        "    Human(\"花子\", 17),\n",
        "    Human(\"次郎\", 20),\n",
        "    Human(\"三郎\", 15)\n",
        "]\n",
        "\n",
        "\n",
        "for person in humans:\n",
        "    person.check_adult()\n"
      ]
    }
  ]
}